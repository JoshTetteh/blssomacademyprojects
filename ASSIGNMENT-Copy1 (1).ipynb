{
 "cells": [
  {
   "cell_type": "markdown",
   "id": "1300e750",
   "metadata": {},
   "source": [
    "# Q1\n",
    "Write a code to display a list of the first 12 multiples of 8 using a for loop\n",
    "\n"
   ]
  },
  {
   "cell_type": "markdown",
   "id": "692b9b99",
   "metadata": {},
   "source": [
    "#### Q1  ANS \n",
    "`my_list` = list(range(1,13))\n",
    "- `my_new_list` = []\n",
    "- for i in `my_list`:\n",
    "-    `my_new_list`.append(8*i)\n",
    "- print (`my_new_list`)\n",
    "\n",
    "#### raw code below "
   ]
  },
  {
   "cell_type": "code",
   "execution_count": 1,
   "id": "a901e738",
   "metadata": {},
   "outputs": [
    {
     "name": "stdout",
     "output_type": "stream",
     "text": [
      "[8, 16, 24, 32, 40, 48, 56, 64, 72, 80, 88, 96]\n"
     ]
    }
   ],
   "source": [
    "my_list = list(range(1,13))\n",
    "my_new_list = []\n",
    "for i in my_list :\n",
    "    my_new_list.append(8*i)\n",
    "print(my_new_list)"
   ]
  },
  {
   "cell_type": "markdown",
   "id": "d9f7d0f9",
   "metadata": {},
   "source": [
    "# Q2\n",
    "Write the code to print sum of all even numbers from 1 to 201"
   ]
  },
  {
   "cell_type": "markdown",
   "id": "fe4c70dc",
   "metadata": {},
   "source": [
    "#### Q2 ANS\n",
    "\n",
    "- `my_list` = list(range(1,201))\n",
    "- `s` = 0\n",
    "- for n in my_list : \n",
    "    - if n %2 == 0 :\n",
    "      - s+=n\n",
    "- print(s)\n",
    "    "
   ]
  },
  {
   "cell_type": "code",
   "execution_count": 3,
   "id": "39f3c38d",
   "metadata": {},
   "outputs": [
    {
     "name": "stdout",
     "output_type": "stream",
     "text": [
      "10100\n"
     ]
    }
   ],
   "source": [
    "my_list = list(range(1,201))\n",
    "s = 0\n",
    "for n in my_list : \n",
    "    if n %2 == 0 :\n",
    "        s+=n\n",
    "print(s)\n",
    "    \n"
   ]
  },
  {
   "cell_type": "code",
   "execution_count": 7,
   "id": "34e85e79",
   "metadata": {},
   "outputs": [
    {
     "data": {
      "text/plain": [
       "10100"
      ]
     },
     "execution_count": 7,
     "metadata": {},
     "output_type": "execute_result"
    }
   ],
   "source": [
    "my_list = list(range(2,201,2))\n",
    "sum(my_list)\n"
   ]
  },
  {
   "cell_type": "markdown",
   "id": "4f0f12d7",
   "metadata": {},
   "source": [
    "# Q3\n",
    "`my_list = [3, 5, 7, 12, 41]`\n",
    "\n",
    "Write the code to display the list of the squares of each number in my list\n",
    "\n",
    "- Without using list comprehension\n",
    "- Using list comprehension\n"
   ]
  },
  {
   "cell_type": "markdown",
   "id": "f22ba5b5",
   "metadata": {},
   "source": [
    "#### Q3 ANS\n",
    "`my_list = [3, 5, 7, 12, 41]`\n",
    " #### Without using list comprehension\n",
    "- `my_list` = [3, 5, 7, 12, 41]\n",
    "- `my_new_list` = [ ]\n",
    "- for loop :\n",
    "   - my_new_list.append(i**2)\n",
    "    \n",
    "- print(`my_new_list`)"
   ]
  },
  {
   "cell_type": "code",
   "execution_count": 8,
   "id": "939e5c96",
   "metadata": {},
   "outputs": [
    {
     "name": "stdout",
     "output_type": "stream",
     "text": [
      "[9, 25, 49, 144, 1681]\n"
     ]
    }
   ],
   "source": [
    "#Without using list comprehension\n",
    "\n",
    "my_list = [3, 5, 7, 12, 41]\n",
    "my_new_list = []\n",
    "for i in my_list :\n",
    "    my_new_list.append(i**2)\n",
    "    \n",
    "print(my_new_list)"
   ]
  },
  {
   "cell_type": "markdown",
   "id": "8dfb8d61",
   "metadata": {},
   "source": [
    "### Using list comprehension\n",
    "\n",
    "- `my_list` = [3, 5, 7, 12, 41]\n",
    "- `my_new_list` = [i**2 for i in my_list]\n",
    "- print(`my_new_list`)"
   ]
  },
  {
   "cell_type": "code",
   "execution_count": 10,
   "id": "75be112d",
   "metadata": {},
   "outputs": [
    {
     "name": "stdout",
     "output_type": "stream",
     "text": [
      "[9, 25, 49, 144, 1681]\n"
     ]
    }
   ],
   "source": [
    "#Using list comprehension\n",
    "\n",
    "my_list = [3, 5, 7, 12, 41]\n",
    "my_new_list = [i**2 for i in my_list]\n",
    "print(my_new_list)\n"
   ]
  },
  {
   "cell_type": "markdown",
   "id": "28bed149",
   "metadata": {},
   "source": [
    "# Q4\n",
    "`my_list1 = [3, 53,47, 22, 53, 78, 12, 41]`\n",
    "\n",
    "Calculate the average of my_list1\n",
    "\n",
    "- Without using sum and len fucnctions\n",
    "- Using sum and len functions\n"
   ]
  },
  {
   "cell_type": "code",
   "execution_count": 14,
   "id": "ee143f01",
   "metadata": {},
   "outputs": [
    {
     "name": "stdout",
     "output_type": "stream",
     "text": [
      "309\n",
      "8\n",
      "38.625\n"
     ]
    }
   ],
   "source": [
    "#Without using sum and len fucnctions\n",
    "\n",
    "my_list1 = [3, 53,47, 22, 53, 78, 12, 41]\n",
    "s = 0\n",
    "l = 0\n",
    "for i in my_list1 :\n",
    "    s+=i\n",
    "    \n",
    "print(s)\n",
    "for i in my_list1 :\n",
    "    l+=1\n",
    "    \n",
    "print(l)\n",
    "\n",
    "print(s/l)"
   ]
  },
  {
   "cell_type": "code",
   "execution_count": 11,
   "id": "cc117e18",
   "metadata": {},
   "outputs": [
    {
     "name": "stdout",
     "output_type": "stream",
     "text": [
      "38.625\n"
     ]
    }
   ],
   "source": [
    "#Using sum and len functions\n",
    "\n",
    "my_list1 = [3, 53,47, 22, 53, 78, 12, 41]\n",
    "print(sum(my_list1)/len(my_list1))"
   ]
  },
  {
   "cell_type": "markdown",
   "id": "38c1ddff",
   "metadata": {},
   "source": [
    "# Q4\n",
    "\n",
    "Write a Python program to guess a number between 1 and 9.\n",
    "User is prompted to enter a guess. If the user guesses wrong then the prompt appears again until the guess is correct, on successful guess, user will get a \"Well guessed!\" message, and the program will exit."
   ]
  },
  {
   "cell_type": "markdown",
   "id": "38f3dc8c",
   "metadata": {},
   "source": [
    "###### Q4 ANS\n",
    "- from `random` import `randrange` to save memory\n",
    "- define a function called `guess`\n",
    "- create a variable called `random_no` and assign to `randrange`\n",
    "- using the while loop equate `guess` the variable to `random_no`\n",
    "- use `else` to break the loop once the condition has been met.\n"
   ]
  },
  {
   "cell_type": "code",
   "execution_count": null,
   "id": "e4a431f4",
   "metadata": {},
   "outputs": [],
   "source": []
  },
  {
   "cell_type": "code",
   "execution_count": null,
   "id": "e60850bf",
   "metadata": {},
   "outputs": [],
   "source": [
    "from random import randrange\n",
    "\n",
    "def guess():\n",
    "    random_no = randrange(1, 9)\n",
    "    guess = 0\n",
    "    print(\"guess a number between 1 and 9\")\n",
    "    guess = int(input(f\"Guess a number between 1 and 9: \"))\n",
    "    while guess != random_no:\n",
    "        guess = int(input(f\"Guess a number between 1 and 9: \"))\n",
    "        print(guess)\n",
    "    else:\n",
    "        print(\"Well guessed!\")\n",
    "                      \n",
    "                      "
   ]
  },
  {
   "cell_type": "code",
   "execution_count": null,
   "id": "4c77352a",
   "metadata": {},
   "outputs": [],
   "source": []
  },
  {
   "cell_type": "code",
   "execution_count": 5,
   "id": "232ad0f9",
   "metadata": {},
   "outputs": [
    {
     "name": "stdout",
     "output_type": "stream",
     "text": [
      "guess a number between 1 and 9\n",
      "Guess a number between 1 and 9: 5\n",
      "Guess a number between 1 and 9: 7\n",
      "7\n",
      "Guess a number between 1 and 9: 2\n",
      "2\n",
      "Guess a number between 1 and 9: 7\n",
      "7\n",
      "Guess a number between 1 and 9: 7\n",
      "7\n",
      "Guess a number between 1 and 9: 9\n",
      "9\n",
      "Guess a number between 1 and 9: 4\n",
      "4\n",
      "Guess a number between 1 and 9: 2\n",
      "2\n",
      "Guess a number between 1 and 9: 3\n",
      "3\n",
      "Guess a number between 1 and 9: 4\n",
      "4\n",
      "Guess a number between 1 and 9: 5\n",
      "5\n",
      "Guess a number between 1 and 9: 6\n",
      "6\n",
      "Well guessed!\n"
     ]
    }
   ],
   "source": []
  },
  {
   "cell_type": "markdown",
   "id": "f5c02baa",
   "metadata": {},
   "source": [
    "# Q5\n",
    "Write a Python program to construct the following pattern.\n",
    "\n",
    "`*` \n",
    "\n",
    "`* *` \n",
    "\n",
    "`* * *` \n",
    "\n",
    "`* * * *` \n",
    "\n",
    "`* * * * *`"
   ]
  },
  {
   "cell_type": "code",
   "execution_count": 21,
   "id": "842fb595",
   "metadata": {},
   "outputs": [
    {
     "name": "stdout",
     "output_type": "stream",
     "text": [
      "* \n",
      "* * \n",
      "* * * \n",
      "* * * * \n",
      "* * * * * \n"
     ]
    }
   ],
   "source": [
    "my_list = list(range(1,6))\n",
    "for i in my_list :\n",
    "   \n",
    " print(i*\"* \")"
   ]
  },
  {
   "cell_type": "code",
   "execution_count": 22,
   "id": "204a8cf2",
   "metadata": {},
   "outputs": [
    {
     "name": "stdout",
     "output_type": "stream",
     "text": [
      " * \n",
      " * * \n",
      " * * * \n",
      " * * * * \n",
      " * * * * * \n"
     ]
    }
   ],
   "source": [
    "a = \" \"\n",
    "my_list = list(range(1,6))\n",
    "for i in my_list :\n",
    "    a+=\"* \"\n",
    "\n",
    "    print(a)"
   ]
  },
  {
   "cell_type": "markdown",
   "id": "e85d94df",
   "metadata": {},
   "source": [
    "# Q6\n",
    "\n",
    "Write a Python program that accepts a word from the user and reverses it."
   ]
  },
  {
   "cell_type": "markdown",
   "id": "b7039cb3",
   "metadata": {},
   "source": [
    "### ## Q6 Solution\n",
    "\n",
    "`s` = input()\n",
    "- print(s[: : -1]\n",
    "\n",
    "##### raw code below"
   ]
  },
  {
   "cell_type": "code",
   "execution_count": 24,
   "id": "b682b1fe",
   "metadata": {},
   "outputs": [
    {
     "name": "stdout",
     "output_type": "stream",
     "text": [
      "Aaron\n",
      "noraA\n"
     ]
    }
   ],
   "source": [
    "s = input()\n",
    "print(s[::-1])\n",
    "\n"
   ]
  },
  {
   "cell_type": "markdown",
   "id": "5fe06511",
   "metadata": {},
   "source": [
    "# Q7\n",
    "Write a Python program that accepts a word from the user and reverses it."
   ]
  },
  {
   "cell_type": "markdown",
   "id": "9e087840",
   "metadata": {},
   "source": [
    "#### Q7 ANS\n",
    "\n",
    "- define a function\n",
    "- use slicing to reverse word\n",
    "\n",
    "###### raw code below"
   ]
  },
  {
   "cell_type": "code",
   "execution_count": 5,
   "id": "11aa91a9",
   "metadata": {},
   "outputs": [],
   "source": [
    "def turn(word):\n",
    "    a =str(word)\n",
    "    print(a[::-1])"
   ]
  },
  {
   "cell_type": "markdown",
   "id": "48e096ef",
   "metadata": {},
   "source": [
    "#### example"
   ]
  },
  {
   "cell_type": "code",
   "execution_count": 6,
   "id": "3a1ab06f",
   "metadata": {},
   "outputs": [
    {
     "name": "stdout",
     "output_type": "stream",
     "text": [
      "edistuo\n"
     ]
    }
   ],
   "source": [
    "turn(\"outside\")"
   ]
  },
  {
   "cell_type": "markdown",
   "id": "5a99d4b3",
   "metadata": {},
   "source": [
    "# Q8\n",
    "\n",
    "`lst = [3,4,5,4,7,8,5,8,3,6,8,9,11]`\n",
    "\n",
    "Write a Python program to count the number of even and odd numbers in the above list of numbers.\n",
    "\n",
    "**Expected output should be in this format**\n",
    "\n",
    "{\"Even\" : num_of_even, \"Odd\": num_of_odd}"
   ]
  },
  {
   "cell_type": "markdown",
   "id": "a25295f3",
   "metadata": {},
   "source": [
    "##### ANS\n",
    "\n",
    "`lst` = [3,4,5,4,7,8,5,8,3,6,8,9,11]\n",
    "- `e` = 0\n",
    "- `o` = 0\n",
    "- for loop\n",
    "- create dictionary called `1st_dict`\n",
    "- print dictionary\n",
    "\n",
    "##### raw code below"
   ]
  },
  {
   "cell_type": "code",
   "execution_count": 26,
   "id": "4209cff1",
   "metadata": {},
   "outputs": [
    {
     "name": "stdout",
     "output_type": "stream",
     "text": [
      "{'Even': 6, 'Odd': 7}\n"
     ]
    }
   ],
   "source": [
    "lst = [3,4,5,4,7,8,5,8,3,6,8,9,11]\n",
    "e = 0\n",
    "o = 0\n",
    "for x in lst :\n",
    "    if x%2 == 0 :\n",
    "        e+=1\n",
    "    if x%2 == 1 :\n",
    "        o+=1\n",
    "\n",
    "lst_dict ={\"Even\" : e, \"Odd\": o}\n",
    "print(lst_dict)"
   ]
  },
  {
   "cell_type": "markdown",
   "id": "c92b54f9",
   "metadata": {},
   "source": [
    "# Q9\n",
    " Write a Python program that iterates the integers from 1 to 50. For multiples of three print \"Fizz\" instead of the number and for multiples of five print \"Buzz\". For numbers that are multiples of three and five, print \"FizzBuzz\".\n",
    "Sample Output :\n",
    "1\n",
    "\n",
    "2\n",
    "\n",
    "fizz\n",
    "\n",
    "4\n",
    "\n",
    "buzz"
   ]
  },
  {
   "cell_type": "markdown",
   "id": "5f9ab1db",
   "metadata": {},
   "source": [
    "#### Q9 ANS\n",
    "- convert range function to list and assign to variable - eg.`e`\n",
    "- for i in `e` :\n",
    "  -  if i%15 == 0:\n",
    "    -    print(\"FizzBuzz\")\n",
    "  -  elif i%5 == 0:\n",
    "      -  print(\"Buzz\")\n",
    "   - elif i%3 == 0:\n",
    "     -   print(\"Fizz\")\n",
    "   - else :\n",
    "     -   print(i)\n",
    "     \n",
    " ###### raw code below"
   ]
  },
  {
   "cell_type": "code",
   "execution_count": 5,
   "id": "47440099",
   "metadata": {},
   "outputs": [
    {
     "name": "stdout",
     "output_type": "stream",
     "text": [
      "1\n",
      "2\n",
      "Fizz\n",
      "4\n",
      "Buzz\n",
      "Fizz\n",
      "7\n",
      "8\n",
      "Fizz\n",
      "Buzz\n",
      "11\n",
      "Fizz\n",
      "13\n",
      "14\n",
      "FizzBuzz\n",
      "16\n",
      "17\n",
      "Fizz\n",
      "19\n",
      "Buzz\n",
      "Fizz\n",
      "22\n",
      "23\n",
      "Fizz\n",
      "Buzz\n",
      "26\n",
      "Fizz\n",
      "28\n",
      "29\n",
      "FizzBuzz\n",
      "31\n",
      "32\n",
      "Fizz\n",
      "34\n",
      "Buzz\n",
      "Fizz\n",
      "37\n",
      "38\n",
      "Fizz\n",
      "Buzz\n",
      "41\n",
      "Fizz\n",
      "43\n",
      "44\n",
      "FizzBuzz\n",
      "46\n",
      "47\n",
      "Fizz\n",
      "49\n",
      "Buzz\n"
     ]
    }
   ],
   "source": [
    "e = list(range(1,51))\n",
    "for i in e :\n",
    "    if i%15 == 0:\n",
    "        print(\"FizzBuzz\")\n",
    "    elif i%5 == 0:\n",
    "        print(\"Buzz\")\n",
    "    elif i%3 == 0:\n",
    "        print(\"Fizz\")\n",
    "    else :\n",
    "        print(i)"
   ]
  },
  {
   "cell_type": "markdown",
   "id": "8d3505cf",
   "metadata": {},
   "source": [
    "# Q10\n",
    " Write a Python program to find the median of three values inputs from the user"
   ]
  },
  {
   "cell_type": "code",
   "execution_count": null,
   "id": "9cf78340",
   "metadata": {},
   "outputs": [],
   "source": []
  },
  {
   "cell_type": "code",
   "execution_count": 10,
   "id": "91aefd7e",
   "metadata": {},
   "outputs": [
    {
     "name": "stdout",
     "output_type": "stream",
     "text": [
      "144\n",
      "10\n",
      "-55\n",
      "10\n"
     ]
    }
   ],
   "source": [
    "a = [int(input()),int(input()),int(input())]\n",
    "print(sorted(a)[1])"
   ]
  },
  {
   "cell_type": "code",
   "execution_count": 12,
   "id": "8f34aef8",
   "metadata": {},
   "outputs": [
    {
     "name": "stdout",
     "output_type": "stream",
     "text": [
      "3\n"
     ]
    }
   ],
   "source": [
    "#m(3,9,15)"
   ]
  },
  {
   "cell_type": "markdown",
   "id": "9ef4f8a2",
   "metadata": {},
   "source": [
    "# Q11\n",
    "Write a Python program to calculate the sum and average of n integer numbers (input from the user). Input 0 to finish."
   ]
  },
  {
   "cell_type": "markdown",
   "id": "97f1bc6f",
   "metadata": {},
   "source": [
    "##### Q11 ANS\n",
    "\n",
    "- create variables and assign values to them( A,B,S & num) preferably zero\n",
    "- use a while loop to form a condition where if input is not zero it continues to calculate average and sum indefinitely\n",
    "\n",
    "###### raw code below\n",
    "\n",
    "\n",
    "\n",
    "\n"
   ]
  },
  {
   "cell_type": "code",
   "execution_count": null,
   "id": "3e2f3d86",
   "metadata": {},
   "outputs": [
    {
     "name": "stdout",
     "output_type": "stream",
     "text": [
      "Please input a number to find the average and sum\n",
      "8\n",
      "8\n",
      "36\n",
      "4.5\n",
      "Please input a number to find the average and sum\n"
     ]
    }
   ],
   "source": [
    "print(\"Please input a number to find the average and sum\")\n",
    "A = int(input())\n",
    "B= list(range(1, A+1))\n",
    "s=0\n",
    "num=0\n",
    "av=0\n",
    "\n",
    "print(A)\n",
    "if A == 0:\n",
    "    print(\"finished\")\n",
    "while A!=0:\n",
    "    for i in B:\n",
    "        s+=i\n",
    "        num+=1\n",
    "        av=s/num\n",
    "    print(s)\n",
    "    print(av)\n",
    "    print(\"Please input a number to find the average and sum\")\n",
    "    A = int(input())\n",
    "    print(A)\n",
    "  "
   ]
  },
  {
   "cell_type": "code",
   "execution_count": null,
   "id": "a0dde1df",
   "metadata": {},
   "outputs": [],
   "source": []
  },
  {
   "cell_type": "markdown",
   "id": "45f5c335",
   "metadata": {},
   "source": [
    "# Q12\n",
    " Write a Python program to create the multiplication table (from 1 to 12) of a number input from a user.\n",
    " \n",
    " Expected Output:\n",
    "\n",
    "Input a number: 6                                                       \n",
    "6 x 1 = 6                                                               \n",
    "6 x 2 = 12                                                              \n",
    "6 x 3 = 18                                                              \n",
    "6 x 4 = 24                                                              \n",
    "6 x 5 = 30                                                              \n",
    "6 x 6 = 36                                                              \n",
    "6 x 7 = 42                                                              \n",
    "6 x 8 = 48                                                              \n",
    "6 x 9 = 54                                                              \n",
    "6 x 10 = 60 \n",
    "\n",
    "6 x 11 = 66\n",
    "\n",
    "6 x 12 = 72"
   ]
  },
  {
   "cell_type": "code",
   "execution_count": 13,
   "id": "8880ac75",
   "metadata": {},
   "outputs": [
    {
     "name": "stdout",
     "output_type": "stream",
     "text": [
      "12\n",
      "12 x 1 = 12\n",
      "12 x 2 = 24\n",
      "12 x 3 = 36\n",
      "12 x 4 = 48\n",
      "12 x 5 = 60\n",
      "12 x 6 = 72\n",
      "12 x 7 = 84\n",
      "12 x 8 = 96\n",
      "12 x 9 = 108\n",
      "12 x 10 = 120\n",
      "12 x 11 = 132\n",
      "12 x 12 = 144\n"
     ]
    }
   ],
   "source": [
    "num = list(range(1,13))\n",
    "a = int(input())\n",
    "for i in num:\n",
    "    print(f\"{a} x {i} = {a*i}\")"
   ]
  },
  {
   "cell_type": "markdown",
   "id": "8cc97048",
   "metadata": {},
   "source": [
    "# Q13\n",
    "Write a Python program to construct the following pattern\n",
    "\n",
    "1\n",
    "\n",
    "22\n",
    "\n",
    "333\n",
    "\n",
    "4444\n",
    "\n",
    "55555\n",
    "\n",
    "666666\n",
    "\n",
    "7777777\n",
    "\n",
    "88888888\n",
    "\n",
    "999999999"
   ]
  },
  {
   "cell_type": "code",
   "execution_count": 16,
   "id": "29c469fe",
   "metadata": {},
   "outputs": [
    {
     "name": "stdout",
     "output_type": "stream",
     "text": [
      "1\n",
      "22\n",
      "333\n",
      "4444\n",
      "55555\n",
      "666666\n",
      "7777777\n",
      "88888888\n",
      "999999999\n"
     ]
    }
   ],
   "source": [
    "for i in list(range(1,10)):\n",
    "    print(str(i)*i)"
   ]
  },
  {
   "cell_type": "markdown",
   "id": "adef967a",
   "metadata": {},
   "source": [
    "# Q14\n",
    "Print sum of all odd numbers from 10 to 50"
   ]
  },
  {
   "cell_type": "markdown",
   "id": "d84a480f",
   "metadata": {},
   "source": [
    "##### Q14 ANS\n",
    "- assign converted range to variable `s`\n",
    "- create a new variable - eg `a` and assign it a value of 0\n",
    "- for loop\n",
    "\n",
    "- ###### raw code below"
   ]
  },
  {
   "cell_type": "code",
   "execution_count": 1,
   "id": "2671721a",
   "metadata": {},
   "outputs": [
    {
     "name": "stdout",
     "output_type": "stream",
     "text": [
      "1230\n"
     ]
    }
   ],
   "source": [
    "s = list(range(10,51))\n",
    "a = 0\n",
    "for i in s:\n",
    "    a+=i\n",
    "print(a)"
   ]
  },
  {
   "cell_type": "code",
   "execution_count": null,
   "id": "20dfbcab",
   "metadata": {},
   "outputs": [],
   "source": []
  },
  {
   "cell_type": "markdown",
   "id": "1642ec1a",
   "metadata": {},
   "source": [
    "# Q15\n",
    "\n",
    "`my_list = [25, 100, 121, 400, 81]`\n",
    "\n",
    "Write the code to display the list of the square root of each number in my list\n",
    "\n",
    "- Without using list comprehension\n",
    "- Using list comprehension"
   ]
  },
  {
   "cell_type": "code",
   "execution_count": 18,
   "id": "be3f0615",
   "metadata": {},
   "outputs": [
    {
     "name": "stdout",
     "output_type": "stream",
     "text": [
      "[5.0, 10.0, 11.0, 20.0, 9.0]\n"
     ]
    }
   ],
   "source": [
    "#Without using list comprehension\n",
    "from math import sqrt\n",
    "my_list = [25, 100, 121, 400, 81]\n",
    "my_new_list =[]\n",
    "for i in my_list:\n",
    "    my_new_list.append(sqrt(i))\n",
    "    \n",
    "print(my_new_list)\n",
    "\n"
   ]
  },
  {
   "cell_type": "code",
   "execution_count": 8,
   "id": "2f38b9b9",
   "metadata": {},
   "outputs": [
    {
     "name": "stdout",
     "output_type": "stream",
     "text": [
      "[]\n"
     ]
    }
   ],
   "source": [
    "my_list = [25, 100, 121, 400, 81]\n",
    "A = list(range(1,401))\n",
    "B = []\n",
    "for i in my_list:\n",
    "    if i == i ** 2:\n",
    "        B+=B.append(i)\n",
    "print(B)\n",
    "        \n",
    "        "
   ]
  },
  {
   "cell_type": "code",
   "execution_count": null,
   "id": "51f73d0f",
   "metadata": {},
   "outputs": [],
   "source": []
  },
  {
   "cell_type": "code",
   "execution_count": null,
   "id": "a1f5058a",
   "metadata": {},
   "outputs": [],
   "source": []
  }
 ],
 "metadata": {
  "kernelspec": {
   "display_name": "Python 3 (ipykernel)",
   "language": "python",
   "name": "python3"
  },
  "language_info": {
   "codemirror_mode": {
    "name": "ipython",
    "version": 3
   },
   "file_extension": ".py",
   "mimetype": "text/x-python",
   "name": "python",
   "nbconvert_exporter": "python",
   "pygments_lexer": "ipython3",
   "version": "3.9.16"
  }
 },
 "nbformat": 4,
 "nbformat_minor": 5
}
