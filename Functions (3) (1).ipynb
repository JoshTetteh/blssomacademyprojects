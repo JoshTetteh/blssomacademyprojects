{
 "cells": [
  {
   "cell_type": "markdown",
   "id": "f215681b",
   "metadata": {},
   "source": [
    "# FUNCTIONS ASSIGNMENT"
   ]
  },
  {
   "cell_type": "markdown",
   "id": "20cf25b9",
   "metadata": {},
   "source": [
    "##### This assignment covers functions however the solutions involve some use of numpy and regular expressions. \n",
    "##### A brief description is given of both before the solutions."
   ]
  },
  {
   "cell_type": "markdown",
   "id": "352dd2e3",
   "metadata": {},
   "source": [
    "### Q1\n",
    "\n",
    "Define a python function that calculate the perimeter of the rectangle\n",
    "\n",
    "Formular\n",
    "\n",
    "formular => 2 X length + 2 X Width"
   ]
  },
  {
   "cell_type": "markdown",
   "id": "5a01f99d",
   "metadata": {},
   "source": [
    "#### Q1 ANSWER"
   ]
  },
  {
   "cell_type": "code",
   "execution_count": 1,
   "id": "3a11c51e",
   "metadata": {},
   "outputs": [],
   "source": [
    "def formular(length,width):\n",
    "    return((2*length)+(2*width))"
   ]
  },
  {
   "cell_type": "code",
   "execution_count": 3,
   "id": "ee613a8f",
   "metadata": {},
   "outputs": [
    {
     "data": {
      "text/plain": [
       "60"
      ]
     },
     "execution_count": 3,
     "metadata": {},
     "output_type": "execute_result"
    }
   ],
   "source": [
    "formular(10,20)"
   ]
  },
  {
   "cell_type": "markdown",
   "id": "a56ccec8",
   "metadata": {},
   "source": [
    "### Q2\n",
    "Define the function to calculate the area of a circle. Round the answer to 3 decimal places.\n",
    "\n",
    "**Preamble**\n",
    " - Take pi as 22/7\n",
    " - formular pi x r ** 2"
   ]
  },
  {
   "cell_type": "markdown",
   "id": "b416499f",
   "metadata": {},
   "source": [
    "#### Q2 ANSWER\n",
    "- Raw Code Below"
   ]
  },
  {
   "cell_type": "code",
   "execution_count": 97,
   "id": "b5da9b81",
   "metadata": {},
   "outputs": [],
   "source": [
    "def formular_pi(r,pi=22/7):\n",
    "    return (pi*r**2)"
   ]
  },
  {
   "cell_type": "code",
   "execution_count": 2,
   "id": "5ba1d5f7",
   "metadata": {},
   "outputs": [
    {
     "data": {
      "text/plain": [
       "154.0"
      ]
     },
     "execution_count": 2,
     "metadata": {},
     "output_type": "execute_result"
    }
   ],
   "source": [
    "formular_pi(7)"
   ]
  },
  {
   "cell_type": "markdown",
   "id": "be5a6965",
   "metadata": {},
   "source": [
    "### Q3\n",
    "Define a function that takes a list of numbers and print out the **mean**, **median** and **mode**.\n",
    "\n",
    "- Test your function with the list b\n",
    "\n",
    "`b = [2,3,4,6,7,3,4,3,2,1,3]`"
   ]
  },
  {
   "cell_type": "markdown",
   "id": "25b59037",
   "metadata": {},
   "source": [
    "#### Q3 ANSWER\n",
    "###### numpy is a package that has two advantages over lists.\n",
    "- They are more memory efficient\n",
    "- They allow you to perform arithmetic calculations inside them without using map or other such functions.\n",
    "##### They also contain mean and mode functions and sorted the values without the use of any other functions or attributes\n",
    "- Raw Code Below"
   ]
  },
  {
   "cell_type": "code",
   "execution_count": 187,
   "id": "50beb3b8",
   "metadata": {},
   "outputs": [],
   "source": [
    "def b(*args):\n",
    "    import numpy as np\n",
    "    from statistics import mode\n",
    "    c=[*args]\n",
    "    s=0\n",
    "    f=0\n",
    "    a=0\n",
    "\n",
    "    m=[]\n",
    "    d=[]\n",
    "    for i in c:\n",
    "        f+=1\n",
    "        s+=i\n",
    "        m.append(i)\n",
    "       \n",
    "    z=np.array(m)\n",
    "    \n",
    "   \n",
    "    print(z)\n",
    "    print(f\" mean is {np.mean(z)}\")\n",
    "    print(f\" median is {np.median(z)}\")\n",
    "    print(f\" mode is {mode(z)}\")"
   ]
  },
  {
   "cell_type": "code",
   "execution_count": 188,
   "id": "b9b3a72e",
   "metadata": {},
   "outputs": [
    {
     "name": "stdout",
     "output_type": "stream",
     "text": [
      "[1 2 2 3 3 3 3 4 4 6 7]\n",
      " mean is 3.4545454545454546\n",
      " median is 3.0\n",
      " mode is 3\n"
     ]
    }
   ],
   "source": [
    "b(2,3,4,6,7,3,4,3,2,1,3)"
   ]
  },
  {
   "cell_type": "code",
   "execution_count": null,
   "id": "764f3d08",
   "metadata": {},
   "outputs": [],
   "source": [
    " #print(f)\n",
    "        #print(s)\n",
    "    #a=[s/f]\n",
    "    #print(a)\n",
    "    #d=m.sort()"
   ]
  },
  {
   "cell_type": "markdown",
   "id": "3313ab10",
   "metadata": {},
   "source": [
    "### Q4\n",
    "Define a function that prints out the list of the first 20 prime numbers"
   ]
  },
  {
   "cell_type": "markdown",
   "id": "d73a0b98",
   "metadata": {},
   "source": [
    "#### Q4 ANSWER\n",
    "- Raw Code Below"
   ]
  },
  {
   "cell_type": "code",
   "execution_count": 3,
   "id": "0e0dd3a8",
   "metadata": {},
   "outputs": [],
   "source": [
    "def prime():\n",
    "    import sympy\n",
    "    p=[]\n",
    "    a=[]\n",
    "    a=list(sympy.primerange(100))\n",
    "    \n",
    "    for i in a:\n",
    "        p.append(i)\n",
    "        \n",
    "    print(p[:21])\n",
    "        "
   ]
  },
  {
   "cell_type": "code",
   "execution_count": 4,
   "id": "511bd5f0",
   "metadata": {},
   "outputs": [
    {
     "name": "stdout",
     "output_type": "stream",
     "text": [
      "[2, 3, 5, 7, 11, 13, 17, 19, 23, 29, 31, 37, 41, 43, 47, 53, 59, 61, 67, 71, 73]\n"
     ]
    }
   ],
   "source": [
    "prime()"
   ]
  },
  {
   "cell_type": "markdown",
   "id": "ef1c5863",
   "metadata": {},
   "source": [
    "#### Q5\n",
    "Define a function that takes a list of strings and print out the string and the length of the string.\n",
    "\n",
    "**Example of expected output**\n",
    "\n",
    "{\"Kofi\":4,\n",
    "\"Ama\":3,\n",
    "\"Sedem\":5}"
   ]
  },
  {
   "cell_type": "markdown",
   "id": "69d9d47d",
   "metadata": {},
   "source": [
    "#### Q5 ANSWER\n",
    "- Raw Code Below"
   ]
  },
  {
   "cell_type": "code",
   "execution_count": 107,
   "id": "f9ab3bd7",
   "metadata": {},
   "outputs": [],
   "source": [
    "def s(*args):\n",
    "    a=0\n",
    "    c=[]\n",
    "    d=[]\n",
    "    b=dict()\n",
    " \n",
    "    for i in list(args):\n",
    "        #print(i)\n",
    "       \n",
    "        a=len(i)\n",
    "        d.append(i)\n",
    "        c.append(a)\n",
    "        #print(c)\n",
    "        #print(a)\n",
    "    b={d:c for (d,c) in zip(d,c)}\n",
    "    print(b)"
   ]
  },
  {
   "cell_type": "code",
   "execution_count": 109,
   "id": "56f9dcd8",
   "metadata": {},
   "outputs": [
    {
     "name": "stdout",
     "output_type": "stream",
     "text": [
      "Kofi\n",
      "Ama\n",
      "Sedem\n",
      "Edem\n",
      "Precious\n",
      "Keith\n",
      "{'Kofi': 4, 'Ama': 3, 'Sedem': 5, 'Edem': 4, 'Precious': 8, 'Keith': 5}\n"
     ]
    }
   ],
   "source": [
    "s(\"Kofi\",\"Ama\",\"Sedem\",\"Edem\",\"Precious\",\"Keith\")"
   ]
  },
  {
   "cell_type": "code",
   "execution_count": null,
   "id": "47ad0ddb",
   "metadata": {},
   "outputs": [],
   "source": []
  },
  {
   "cell_type": "markdown",
   "id": "5072c8d8",
   "metadata": {},
   "source": [
    "### Q6\n",
    "Define a function that takes a list of strings and numbers and print out only the strings and the position of the strings.\n",
    "\n",
    "**Preamble**\n",
    "\n",
    "names = ['sedem', 'Kofi', 'kobla']\n",
    "\n",
    "**Expected Output**\n",
    "\n",
    "{'sedem': P0, 'Kofi': P1, 'kobla': P2}"
   ]
  },
  {
   "cell_type": "markdown",
   "id": "9d728059",
   "metadata": {},
   "source": [
    "#### Q6 ANSWER \n",
    "##### SOLUTION 1\n",
    "- Raw Code Below"
   ]
  },
  {
   "cell_type": "code",
   "execution_count": 1,
   "id": "60d57c4d",
   "metadata": {},
   "outputs": [],
   "source": [
    "def position(*args):\n",
    "    A=-1\n",
    "    B=[]\n",
    "    C=dict()\n",
    "    D=[]\n",
    "    for i in list(args):\n",
    "        A+=1\n",
    "        B.append(i)\n",
    "        D.append(A)\n",
    "    C={B:D for (B,D) in zip(B,D)}\n",
    "    F={}\n",
    "    G=[]\n",
    "    H=[]\n",
    "    for k,v in C.items():\n",
    "        F={}\n",
    "        G.append(f\"{k}\")\n",
    "        H.append(f\"P{v}\")\n",
    "  \n",
    "    F={G:H for (G,H) in zip(G,H)}    \n",
    "    print(F)\n",
    "    #print(A)\n",
    "    #print(B)\n",
    "    #print(D)\n",
    "    #print(C)\n",
    "    #print()"
   ]
  },
  {
   "cell_type": "code",
   "execution_count": null,
   "id": "81360bac",
   "metadata": {},
   "outputs": [],
   "source": []
  },
  {
   "cell_type": "code",
   "execution_count": 2,
   "id": "31b52226",
   "metadata": {},
   "outputs": [
    {
     "name": "stdout",
     "output_type": "stream",
     "text": [
      "{'Sedem': 'P0', 'Kofi': 'P1', 'Kobla': 'P2'}\n"
     ]
    }
   ],
   "source": [
    "position(\"Sedem\",\"Kofi\",\"Kobla\")"
   ]
  },
  {
   "cell_type": "code",
   "execution_count": null,
   "id": "c42db6e3",
   "metadata": {},
   "outputs": [],
   "source": []
  },
  {
   "cell_type": "code",
   "execution_count": 152,
   "id": "59c6da3d",
   "metadata": {},
   "outputs": [
    {
     "name": "stdout",
     "output_type": "stream",
     "text": [
      "{'Kofi': 'P1', 'Alan': 'P2', 'Koforidua': 'P3', 'Kobla': 'P4', 'Precious': 'P5', 'Sanhedrin': 'P6', 'Keith': 'P7'}\n"
     ]
    }
   ],
   "source": [
    "position(\"Kofi\",\"Alan\",\"Koforidua\",\"Kobla\",\"Precious\",\"Sanhedrin\",\"Keith\")"
   ]
  },
  {
   "cell_type": "markdown",
   "id": "653c62f3",
   "metadata": {},
   "source": [
    "#### SOLUTION 2"
   ]
  },
  {
   "cell_type": "code",
   "execution_count": 85,
   "id": "6e31c9ea",
   "metadata": {},
   "outputs": [],
   "source": [
    "def position(*args):\n",
    "    #print(list(enumerate(args)))\n",
    "    B=dict()\n",
    "    B={i:pos for pos, i in enumerate(args) }\n",
    "    \n",
    "    for k,v in B.items():\n",
    "        print(f\"{k}: P{v}\")\n",
    "        \n",
    "    "
   ]
  },
  {
   "cell_type": "code",
   "execution_count": 86,
   "id": "269f8ce4",
   "metadata": {},
   "outputs": [
    {
     "name": "stdout",
     "output_type": "stream",
     "text": [
      "Kofi: P0\n",
      "Alan: P1\n",
      "Koforidua: P2\n",
      "Kobla: P3\n",
      "Precious: P4\n",
      "Sanhedrin: P5\n",
      "Keith: P6\n"
     ]
    }
   ],
   "source": [
    "position(\"Kofi\",\"Alan\",\"Koforidua\",\"Kobla\",\"Precious\",\"Sanhedrin\",\"Keith\")"
   ]
  },
  {
   "cell_type": "markdown",
   "id": "5593b665",
   "metadata": {},
   "source": [
    "### Q7\n",
    "Define a function that returns whether the sum of a person age and person's date of birth equals 2023\n",
    "\n",
    "**Preamble**\n",
    "\n",
    "2001 + 22 => True\n",
    "\n",
    "2002 + 5 => False"
   ]
  },
  {
   "cell_type": "markdown",
   "id": "23a2a25a",
   "metadata": {},
   "source": [
    "#### Q7 ANSWER\n",
    "- Raw Code Below"
   ]
  },
  {
   "cell_type": "code",
   "execution_count": 42,
   "id": "f61be6f1",
   "metadata": {},
   "outputs": [],
   "source": [
    "def year(age,dob):\n",
    "    if age+dob==2023:\n",
    "        print(f\"{dob} + {age} => True\")\n",
    "    else:\n",
    "        print(f\"{dob} + {age} => False\")\n",
    "           "
   ]
  },
  {
   "cell_type": "code",
   "execution_count": 43,
   "id": "52034a72",
   "metadata": {},
   "outputs": [
    {
     "name": "stdout",
     "output_type": "stream",
     "text": [
      "2021 + 17 => False\n"
     ]
    }
   ],
   "source": [
    "year(17,2021)"
   ]
  },
  {
   "cell_type": "code",
   "execution_count": null,
   "id": "5d4d10af",
   "metadata": {},
   "outputs": [],
   "source": []
  },
  {
   "cell_type": "markdown",
   "id": "f831e652",
   "metadata": {},
   "source": [
    "### Q8\n",
    "Define a function that determine whether a particular year is a **decade**, the output should be a boolean (True or False)\n"
   ]
  },
  {
   "cell_type": "code",
   "execution_count": null,
   "id": "a0fa7b3c",
   "metadata": {},
   "outputs": [],
   "source": [
    "import re\n",
    "\n",
    "def decade(year):\n",
    "    re."
   ]
  },
  {
   "cell_type": "markdown",
   "id": "211c19e3",
   "metadata": {},
   "source": [
    "### Q9\n",
    "Define a function that contains a list of strings and punctuations,the output should on return the list of punctuations.\n"
   ]
  },
  {
   "cell_type": "markdown",
   "id": "96881fab",
   "metadata": {},
   "source": [
    "#### Q9 ANSWER\n",
    "\n",
    "- Regular expressions is used for determing patterns in strings and can be used to match or extract all patterns within strings or selected texts/ documents.\n",
    "\n",
    "###### Raw Code Below"
   ]
  },
  {
   "cell_type": "code",
   "execution_count": 146,
   "id": "9581f763",
   "metadata": {},
   "outputs": [],
   "source": [
    "import re\n",
    "def text(text):\n",
    "    m = re.findall(\"[^\\w\\s]+\",text)\n",
    "    print(m)"
   ]
  },
  {
   "cell_type": "code",
   "execution_count": 147,
   "id": "bcd19bed",
   "metadata": {},
   "outputs": [
    {
     "name": "stdout",
     "output_type": "stream",
     "text": [
      "['!', '@', '?', '.', '.', '?', ',', '.']\n"
     ]
    }
   ],
   "source": [
    "text(\"Hi! How @re you? Is House M.D. on right now? Let me know, thanks.\")"
   ]
  },
  {
   "cell_type": "markdown",
   "id": "34bae9ec",
   "metadata": {},
   "source": [
    "### Q10\n",
    "\n",
    "Define a lambda function that print out the cubic root of a list of numbers"
   ]
  },
  {
   "cell_type": "markdown",
   "id": "2ce33d80",
   "metadata": {},
   "source": [
    "#### Q10 ANSWER\n",
    "- Raw Code Below"
   ]
  },
  {
   "cell_type": "code",
   "execution_count": 5,
   "id": "49b70927",
   "metadata": {},
   "outputs": [],
   "source": [
    "import numpy\n",
    "\n",
    "cubed=lambda x:list( numpy.cbrt(x))"
   ]
  },
  {
   "cell_type": "code",
   "execution_count": 6,
   "id": "1688af7e",
   "metadata": {},
   "outputs": [
    {
     "data": {
      "text/plain": [
       "[3.0, 10.0, 5.0]"
      ]
     },
     "execution_count": 6,
     "metadata": {},
     "output_type": "execute_result"
    }
   ],
   "source": [
    "cubed([27,1000,125,])"
   ]
  },
  {
   "cell_type": "code",
   "execution_count": null,
   "id": "56875a4d",
   "metadata": {},
   "outputs": [],
   "source": []
  },
  {
   "cell_type": "markdown",
   "id": "37974632",
   "metadata": {},
   "source": [
    "### Q11\n",
    "Define a lambda function that print out the cube of a list of numbers"
   ]
  },
  {
   "cell_type": "code",
   "execution_count": 98,
   "id": "9c0312b7",
   "metadata": {},
   "outputs": [],
   "source": [
    "\n",
    "cube = lambda x:x**3"
   ]
  },
  {
   "cell_type": "code",
   "execution_count": 99,
   "id": "21c41624",
   "metadata": {},
   "outputs": [
    {
     "data": {
      "text/plain": [
       "125"
      ]
     },
     "execution_count": 99,
     "metadata": {},
     "output_type": "execute_result"
    }
   ],
   "source": [
    "cube(5)"
   ]
  },
  {
   "cell_type": "markdown",
   "id": "b1522dbb",
   "metadata": {},
   "source": [
    "### Q12\n",
    "Define a function that take a list of list of numbers and return a list that contains the average of each sublist using map."
   ]
  },
  {
   "cell_type": "markdown",
   "id": "b0080b48",
   "metadata": {},
   "source": [
    "#### Q12 ANSWER\n",
    "- Raw Code Below"
   ]
  },
  {
   "cell_type": "code",
   "execution_count": 100,
   "id": "d5158643",
   "metadata": {},
   "outputs": [],
   "source": [
    "def sub(*args):\n",
    "    #print(args)\n",
    "    from statistics import mean \n",
    "    Av=list(args)\n",
    "    print(list(map(mean,Av)))\n",
    "    # Output: [2.0, 5.0, 8.0]\n"
   ]
  },
  {
   "cell_type": "code",
   "execution_count": 101,
   "id": "c6c0c761",
   "metadata": {},
   "outputs": [
    {
     "name": "stdout",
     "output_type": "stream",
     "text": [
      "[2.5, 6.5, 9.5]\n"
     ]
    }
   ],
   "source": [
    "sub([1,2,3,4],[5,6,7,8],[9,10])"
   ]
  },
  {
   "cell_type": "markdown",
   "id": "0fd5cd06",
   "metadata": {},
   "source": [
    "### Q13\n",
    "Define a function that takes a list of strings and filter out strings that are upper case."
   ]
  },
  {
   "cell_type": "markdown",
   "id": "dd555d68",
   "metadata": {},
   "source": [
    "#### Q13 ANSWER\n",
    "- Raw Code Below"
   ]
  },
  {
   "cell_type": "code",
   "execution_count": null,
   "id": "73ef5817",
   "metadata": {},
   "outputs": [],
   "source": [
    "def Capital(text):\n",
    "    import re\n",
    "    A=re.findall(\"[a-z]\", text)\n",
    "    print(A)"
   ]
  },
  {
   "cell_type": "code",
   "execution_count": null,
   "id": "d1b9ec36",
   "metadata": {},
   "outputs": [],
   "source": [
    "Capital(\"My name is Oliver Queen\")"
   ]
  },
  {
   "cell_type": "markdown",
   "id": "d0dddd17",
   "metadata": {},
   "source": [
    "### Q14\n",
    "Define a function that takes a list of numbers and print out the numbers which are prime in the list."
   ]
  },
  {
   "cell_type": "markdown",
   "id": "a6e5af58",
   "metadata": {},
   "source": [
    "#### Q14 ANSWER\n",
    "- Raw Code Below"
   ]
  },
  {
   "cell_type": "code",
   "execution_count": 7,
   "id": "12f5508e",
   "metadata": {},
   "outputs": [],
   "source": [
    "import sympy\n",
    "def primelist(*args):\n",
    "    import sympy\n",
    "    A = list(args)\n",
    "    \n",
    "    for i in A:\n",
    "        if sympy.isprime(i) == True:\n",
    "            print(i)"
   ]
  },
  {
   "cell_type": "code",
   "execution_count": 8,
   "id": "67c74775",
   "metadata": {},
   "outputs": [
    {
     "name": "stdout",
     "output_type": "stream",
     "text": [
      "2\n",
      "3\n",
      "5\n",
      "7\n"
     ]
    }
   ],
   "source": [
    "primelist(1,2,3,4,5,6,7,8,9)"
   ]
  },
  {
   "cell_type": "markdown",
   "id": "240741dc",
   "metadata": {},
   "source": [
    "### Q15\n",
    "Define a function that take a list of strings and return a zip of each string and length of a string."
   ]
  },
  {
   "cell_type": "markdown",
   "id": "65c27590",
   "metadata": {},
   "source": [
    "#### Q15 ANSWER\n",
    "- Raw Code Below"
   ]
  },
  {
   "cell_type": "code",
   "execution_count": 12,
   "id": "faf90738",
   "metadata": {},
   "outputs": [],
   "source": [
    "def stringzip(*args):\n",
    "    length=list(map(len,args))\n",
    "    text=list(args)\n",
    "    return list(zip(text,length))\n",
    "   \n",
    "    "
   ]
  },
  {
   "cell_type": "code",
   "execution_count": 14,
   "id": "096b38f8",
   "metadata": {},
   "outputs": [
    {
     "data": {
      "text/plain": [
       "[('Intel', 5), ('Charlie', 7), ('Playback', 8)]"
      ]
     },
     "execution_count": 14,
     "metadata": {},
     "output_type": "execute_result"
    }
   ],
   "source": [
    "stringzip(\"Intel\",\"Charlie\",\"Playback\")"
   ]
  },
  {
   "cell_type": "markdown",
   "id": "44a1339f",
   "metadata": {},
   "source": [
    "### Q16\n",
    "Define a function that takes in a number and return the first 12 multiples of the the number.\n",
    "\n",
    "Expected Output\n",
    "\n",
    "2 X 1 = 2\n",
    "\n",
    "to\n",
    "\n",
    "2 X 12 = 24"
   ]
  },
  {
   "cell_type": "markdown",
   "id": "ac2e0862",
   "metadata": {},
   "source": [
    "#### Q16 ANSWER\n",
    "- Raw Code Below"
   ]
  },
  {
   "cell_type": "code",
   "execution_count": 20,
   "id": "8daedb7e",
   "metadata": {},
   "outputs": [],
   "source": [
    "def times(number, C = list(range(1,13))):\n",
    "    for i in C:\n",
    "        print(f\"{number} X {i} = {number * i}\")"
   ]
  },
  {
   "cell_type": "code",
   "execution_count": 21,
   "id": "11094bbd",
   "metadata": {},
   "outputs": [
    {
     "name": "stdout",
     "output_type": "stream",
     "text": [
      "8 X 1 = 8\n",
      "8 X 2 = 16\n",
      "8 X 3 = 24\n",
      "8 X 4 = 32\n",
      "8 X 5 = 40\n",
      "8 X 6 = 48\n",
      "8 X 7 = 56\n",
      "8 X 8 = 64\n",
      "8 X 9 = 72\n",
      "8 X 10 = 80\n",
      "8 X 11 = 88\n",
      "8 X 12 = 96\n"
     ]
    }
   ],
   "source": [
    "times(8)"
   ]
  },
  {
   "cell_type": "code",
   "execution_count": null,
   "id": "92026fcc",
   "metadata": {},
   "outputs": [],
   "source": []
  },
  {
   "cell_type": "markdown",
   "id": "cd63dd99",
   "metadata": {},
   "source": [
    "### Q17\n",
    "Write a Python function to find the maximum of three numbers.\n",
    "\n",
    "**Do not use the max function**"
   ]
  },
  {
   "cell_type": "markdown",
   "id": "e5d425e6",
   "metadata": {},
   "source": [
    "#### Q17 ANSWER\n",
    "- Raw Code Below"
   ]
  },
  {
   "cell_type": "code",
   "execution_count": 17,
   "id": "daaa1135",
   "metadata": {},
   "outputs": [],
   "source": [
    "def highest(no1,no2,no3):\n",
    "    A=[]\n",
    "    B=[]\n",
    "    A.extend([no1,no2,no3])\n",
    "    A.sort()\n",
    "    print(A[-1:])"
   ]
  },
  {
   "cell_type": "code",
   "execution_count": 18,
   "id": "4c08a2aa",
   "metadata": {},
   "outputs": [
    {
     "name": "stdout",
     "output_type": "stream",
     "text": [
      "[93]\n"
     ]
    }
   ],
   "source": [
    "highest(81,93,45)"
   ]
  },
  {
   "cell_type": "code",
   "execution_count": null,
   "id": "ed91db3d",
   "metadata": {},
   "outputs": [],
   "source": []
  },
  {
   "cell_type": "markdown",
   "id": "67520c0b",
   "metadata": {},
   "source": [
    "### Q18\n",
    "Write a Python function to multiply all the numbers in a list."
   ]
  },
  {
   "cell_type": "markdown",
   "id": "25b4dd13",
   "metadata": {},
   "source": [
    "#### Q18 ANSWER\n",
    "- Raw Code Below"
   ]
  },
  {
   "cell_type": "code",
   "execution_count": 104,
   "id": "61e0925b",
   "metadata": {},
   "outputs": [],
   "source": [
    "def mult(*args):\n",
    "    import numpy as np\n",
    "    A=np.array(list(args))\n",
    "    B=np.prod(A)\n",
    "    return B\n"
   ]
  },
  {
   "cell_type": "code",
   "execution_count": 105,
   "id": "e79b285f",
   "metadata": {},
   "outputs": [
    {
     "data": {
      "text/plain": [
       "5040"
      ]
     },
     "execution_count": 105,
     "metadata": {},
     "output_type": "execute_result"
    }
   ],
   "source": [
    "mult(1,2,3,4,5,6,7)"
   ]
  },
  {
   "cell_type": "markdown",
   "id": "05891582",
   "metadata": {},
   "source": [
    "### Q19\n",
    "Write a Python program to reverse a string"
   ]
  },
  {
   "cell_type": "markdown",
   "id": "5cb798a3",
   "metadata": {},
   "source": [
    "#### Q19 ANSWER\n",
    "- Raw Code Below"
   ]
  },
  {
   "cell_type": "code",
   "execution_count": null,
   "id": "3eca4ace",
   "metadata": {},
   "outputs": [],
   "source": [
    "def (reverse)word:\n",
    "    return word[::-1]"
   ]
  },
  {
   "cell_type": "code",
   "execution_count": null,
   "id": "d7b507a3",
   "metadata": {},
   "outputs": [],
   "source": [
    "reverse(\"Blossom\")"
   ]
  },
  {
   "cell_type": "markdown",
   "id": "b9025ac8",
   "metadata": {},
   "source": [
    "### Q20\n",
    "Write a python function to return the length of a string."
   ]
  },
  {
   "cell_type": "markdown",
   "id": "8d1ee176",
   "metadata": {},
   "source": [
    "Have a lovely coding weekend"
   ]
  },
  {
   "cell_type": "markdown",
   "id": "605a696f",
   "metadata": {},
   "source": [
    "#### Q20 ANSWER\n",
    "- Raw Code Below"
   ]
  },
  {
   "cell_type": "code",
   "execution_count": 10,
   "id": "00820004",
   "metadata": {},
   "outputs": [],
   "source": [
    "def l(text):\n",
    "    return len(text)"
   ]
  },
  {
   "cell_type": "code",
   "execution_count": 11,
   "id": "787e23a2",
   "metadata": {},
   "outputs": [
    {
     "data": {
      "text/plain": [
       "4"
      ]
     },
     "execution_count": 11,
     "metadata": {},
     "output_type": "execute_result"
    }
   ],
   "source": [
    "l(\"word\")"
   ]
  }
 ],
 "metadata": {
  "kernelspec": {
   "display_name": "Python 3 (ipykernel)",
   "language": "python",
   "name": "python3"
  },
  "language_info": {
   "codemirror_mode": {
    "name": "ipython",
    "version": 3
   },
   "file_extension": ".py",
   "mimetype": "text/x-python",
   "name": "python",
   "nbconvert_exporter": "python",
   "pygments_lexer": "ipython3",
   "version": "3.9.16"
  }
 },
 "nbformat": 4,
 "nbformat_minor": 5
}
