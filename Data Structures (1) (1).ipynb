{
 "cells": [
  {
   "cell_type": "markdown",
   "id": "3c2e90df",
   "metadata": {},
   "source": [
    "### THE FOUR PYTHON DATA STRUCTURES\n",
    "\n",
    "Name the four built-in data structures in python. Give one examples for each"
   ]
  },
  {
   "cell_type": "markdown",
   "id": "45017744",
   "metadata": {},
   "source": [
    " ##### ANSWER"
   ]
  },
  {
   "cell_type": "markdown",
   "id": "76ceaab9",
   "metadata": {},
   "source": [
    "- `List`: [1,2,3,45,6,7]\n",
    "\n",
    "- `Dictionary`: {\"Student_1\": \"Aaron\", \n",
    "               \"Student_2\":\"Eddy\",   \n",
    "               \"Student_3\":\"Keith\",\n",
    "               \"Student_4\":\"Joshua\"}\n",
    "\n",
    "\n",
    "- `Sets`:{2,4,5,9,0}\n",
    "\n",
    "\n",
    "- `Tuples`:(1,3,5,7,8)\n"
   ]
  },
  {
   "cell_type": "markdown",
   "id": "b6e1dd1b",
   "metadata": {},
   "source": [
    "### Q2\n",
    "\n",
    "State two differences between a list and a tuple in Python.\n",
    "\n",
    "##### ANSWER\n",
    "- i. List are ordered and mutable whilst Tuples are ordered but immutable.\n",
    "\n",
    "- ii. Tuples are more memory efficient than lists\n"
   ]
  },
  {
   "cell_type": "code",
   "execution_count": null,
   "id": "02a19dc7",
   "metadata": {},
   "outputs": [],
   "source": []
  },
  {
   "cell_type": "markdown",
   "id": "815b4e67",
   "metadata": {},
   "source": [
    "### Q3\n",
    "Make a list containing names of five animals with a variable name `animal_list`\n",
    "\n",
    "Write a code for the following:\n",
    "- Print the first two animals\n",
    "- Print the last two animals\n",
    "- Add three extra animals to the variable `animal_list`\n",
    "- Remove the first two animals from the variable `animal_list`\n",
    "- How many animals are in the `animal_list`?\n",
    "- Create a variable animal_set which stores the set of animal_list \n",
    "- How many elements are in the animal_set?\n"
   ]
  },
  {
   "cell_type": "code",
   "execution_count": null,
   "id": "c98302bd",
   "metadata": {},
   "outputs": [],
   "source": []
  },
  {
   "cell_type": "code",
   "execution_count": null,
   "id": "600fffc2",
   "metadata": {},
   "outputs": [],
   "source": []
  },
  {
   "cell_type": "code",
   "execution_count": null,
   "id": "e217174e",
   "metadata": {},
   "outputs": [],
   "source": []
  },
  {
   "cell_type": "code",
   "execution_count": null,
   "id": "10ae3e03",
   "metadata": {},
   "outputs": [],
   "source": []
  },
  {
   "cell_type": "code",
   "execution_count": 70,
   "id": "d7d86058",
   "metadata": {},
   "outputs": [
    {
     "name": "stdout",
     "output_type": "stream",
     "text": [
      "['Dog', 'Cat']\n",
      "['Lion', 'Tiger']\n",
      "['Dog', 'Cat', 'Seahorse', 'Lion', 'Tiger', 'rat', 'mouse', 'horse']\n",
      "['Seahorse', 'Lion', 'Tiger', 'rat', 'mouse', 'horse']\n",
      "6\n",
      "{'Tiger', 'horse', 'mouse', 'Seahorse', 'rat', 'Lion'}\n",
      "6\n"
     ]
    }
   ],
   "source": [
    "# Print the first two animals\n",
    "animal_list=[\"Dog\",\"Cat\",\"Seahorse\",\"Lion\",\"Tiger\"]\n",
    "\n",
    "# Print the last two animals\n",
    "print(animal_list[:2])\n",
    "print(animal_list[-2:])\n",
    "\n",
    "# Add three extra animals to the list\n",
    "animal_list.extend([\"rat\",\"mouse\",\"horse\"])\n",
    "print(animal_list)\n",
    "\n",
    "# Remove the first two animals from the variable animal_list\n",
    "animal_list.remove(\"Dog\")\n",
    "animal_list.remove(\"Cat\")\n",
    "print(animal_list)\n",
    "\n",
    "#How many animals in the list?\n",
    "print(len(animal_list))\n",
    "\n",
    "animal_set = set(animal_list)\n",
    "\n",
    "print(animal_set)\n",
    "\n",
    "print(len(animal_set))\n"
   ]
  },
  {
   "cell_type": "code",
   "execution_count": null,
   "id": "8cdffcb5",
   "metadata": {},
   "outputs": [],
   "source": [
    "\n"
   ]
  },
  {
   "cell_type": "code",
   "execution_count": null,
   "id": "bd8b96ad",
   "metadata": {},
   "outputs": [],
   "source": []
  },
  {
   "cell_type": "code",
   "execution_count": null,
   "id": "8599e036",
   "metadata": {},
   "outputs": [],
   "source": []
  },
  {
   "cell_type": "markdown",
   "id": "113c9970",
   "metadata": {},
   "source": [
    "### Q4\n",
    "\n",
    "Given a list:\n",
    "\n",
    "suitcase = [\"sunglasses\", \"hat\", \"passport\", \"laptop\", \"suit\", \"shoes\"]\n",
    "\n",
    "a. Create a list called first containing only the two first items from suitcase.\n",
    "\n",
    "b. Create a list called middle containing only the two middle items from suitcase.\n",
    "\n",
    "\n",
    "c. Create a list called last made up only of the last two items from suitcase."
   ]
  },
  {
   "cell_type": "markdown",
   "id": "683f875c",
   "metadata": {},
   "source": [
    "\n",
    "\n",
    " ## a.\n",
    " ###### Create a list containing only the 1st 2 values from suitcase called `first`\n",
    " `suitcase` = [\"sunglasses\", \"hat\", \"passport\", \"laptop\", \"suit\", \"shoes\"]\n",
    "- `first` = suitcase[:2]\n",
    "- `first`= `suitcase[\"sunglasses\",\"hat\"]`"
   ]
  },
  {
   "cell_type": "code",
   "execution_count": 11,
   "id": "6c7efb92",
   "metadata": {},
   "outputs": [
    {
     "name": "stdout",
     "output_type": "stream",
     "text": [
      " first is equal to = suitcase['sunglasses', 'hat']\n"
     ]
    }
   ],
   "source": [
    "# Create a list containing only the 1st 2 values from suitcase called first\n",
    "\n",
    "suitcase = [\"sunglasses\", \"hat\", \"passport\", \"laptop\", \"suit\", \"shoes\"]\n",
    "first = suitcase[:2]\n",
    "print(f\" first is equal to = suitcase{first}\")"
   ]
  },
  {
   "cell_type": "markdown",
   "id": "a0aa546c",
   "metadata": {},
   "source": [
    "\n",
    " ## b.\n",
    " \n",
    "###### Create a sublist from suitcase containing values from index 2 to 4 and assign to variable `middle`\n",
    " `suitcase` = [\"sunglasses\", \"hat\", \"passport\", \"laptop\", \"suit\", \"shoes\"]\n",
    "- `middle` = suitcase[2:4]\n",
    "- `middle`= `suitcase`[\"passport\", \"laptop\"]\n",
    "\n",
    "## c.\n",
    "\n",
    "##### Use reverse indexing to obtain the last 2 values and assign to variable : `last` \n",
    " `suitcase` = [\"sunglasses\", \"hat\", \"passport\", \"laptop\", \"suit\", \"shoes\"]\n",
    "- `last` = suitcase[-2:]\n",
    "- `last`= `suitcase`[\"suit\",\"shoes\"]"
   ]
  },
  {
   "cell_type": "code",
   "execution_count": 14,
   "id": "86ae1ded",
   "metadata": {},
   "outputs": [
    {
     "name": "stdout",
     "output_type": "stream",
     "text": [
      " B. middle is equal to = suitcase['sunglasses', 'hat']\n",
      " C. last is equal to = suitcase['suit', 'shoes']\n"
     ]
    }
   ],
   "source": [
    "middle = suitcase[:2]\n",
    "print(f\" B. middle is equal to = suitcase{middle}\")\n",
    "\n",
    "# Use reverse indexing to the last two values and assign to variable 'last'\n",
    "last = suitcase[-2:]\n",
    "print(f\" C. last is equal to = suitcase{last}\")"
   ]
  },
  {
   "cell_type": "markdown",
   "id": "711ba044",
   "metadata": {},
   "source": [
    "### Q5\n",
    "Write a python code to insert 35 into the list below. Make sure it is inserted in the right position to maintain the order of the data.\n",
    "\n",
    "`values = [20,25,30,40,45,50,55,60,65,70]`"
   ]
  },
  {
   "cell_type": "markdown",
   "id": "eeda722c",
   "metadata": {},
   "source": [
    "#### List\n",
    "\n",
    "`values` = [20,25,30,40,45,50,55,60,65,70]\n",
    "\n",
    "- `values`.insert(index,value)\n",
    "\n",
    "- `values`.insert(3,35)\n",
    "\n",
    "- `values` = [20,25,30,40,45,50,55,60,65,70]\n",
    "\n",
    "###### Raw code below"
   ]
  },
  {
   "cell_type": "code",
   "execution_count": 28,
   "id": "cc287c41",
   "metadata": {},
   "outputs": [
    {
     "name": "stdout",
     "output_type": "stream",
     "text": [
      " values = [20, 25, 30, 35, 35, 35, 35, 35, 35, 35, 35, 35, 35, 40, 45, 50, 55, 60, 65, 70]\n",
      " values = [20, 25, 30, 35, 35, 35, 35, 35, 35, 35, 35, 35, 35, 35, 40, 45, 50, 55, 60, 65, 70]\n"
     ]
    }
   ],
   "source": [
    "print(f\" values = {values}\")\n",
    "values.insert(3,35)\n",
    "\n",
    "print(f\" values = {values}\")\n"
   ]
  },
  {
   "cell_type": "markdown",
   "id": "f535cf64",
   "metadata": {},
   "source": [
    "### Q6\n",
    "\n",
    "Given that Python lists and Python tuples are quite similar – when might you prefer to use a tuple over a list?"
   ]
  },
  {
   "cell_type": "markdown",
   "id": "bb1c93b4",
   "metadata": {},
   "source": [
    "Ans : When you want to use an data structure that is ordered but has immutable values"
   ]
  },
  {
   "cell_type": "markdown",
   "id": "346927f6",
   "metadata": {},
   "source": [
    "### Q7\n",
    "Create a dictionary with 5 Ghana regions and their capitals and store it in the variable `region_capital`\n",
    "\n",
    "- Print out the keys of region_capital\n",
    "- Print out the values of region_capital\n"
   ]
  },
  {
   "cell_type": "markdown",
   "id": "29f9f78f",
   "metadata": {},
   "source": [
    "##### Q7 Answer : Dictionaries\n",
    "\n",
    "`region_capital` : {\"Greater Accra\":\"Accra\",\"Central\":\"Cape-Coast\",\"Volta\":\"Ho\",\"Western\":\"Takoradi\",\"Ashanti\":\"Kumasi\"}\n",
    "- `dict.keys` : shows the keys inside a dictionary\n",
    "- `dict.values` : shows the values within a dictionary\n",
    "    \n",
    " ##### Raw Code below"
   ]
  },
  {
   "cell_type": "code",
   "execution_count": 92,
   "id": "70c76a94",
   "metadata": {},
   "outputs": [
    {
     "name": "stdout",
     "output_type": "stream",
     "text": [
      "dict_keys(['Greater Accra', 'Central', 'Volta', 'Western', 'Ashanti'])\n",
      "dict_values(['Accra', 'Cape-Coast', 'Ho', 'Takoradi', 'Kumasi'])\n"
     ]
    }
   ],
   "source": [
    "region_capital={\"Greater Accra\":\"Accra\",\"Central\":\"Cape-Coast\",\"Volta\":\"Ho\",\"Western\":\"Takoradi\",\"Ashanti\":\"Kumasi\"}\n",
    "\n",
    "print(region_capital.keys())\n",
    "print(region_capital.values())"
   ]
  },
  {
   "cell_type": "markdown",
   "id": "70526b3b",
   "metadata": {},
   "source": [
    "### Q8\n",
    "\n",
    "`values = [3,4,5,6,3,4,3,5,2,4,2,5,6,1,6]`\n",
    "\n",
    "Using the codes above answer the following questions:\n",
    "- What is the total number of elements in values?\n",
    "- What is the highest occuring number in the values variable?\n",
    "- Convert values into a set and store it into a variable named `values_set`\n",
    "- How many elements are in the variable values_set?\n"
   ]
  },
  {
   "cell_type": "markdown",
   "id": "1b3eb736",
   "metadata": {},
   "source": [
    "##### Q8 Steps\n",
    "\n",
    "- import mode from statistics package\n",
    "- assign numbers to values\n",
    "- use the mode function to determine the highest occuring number. There are three but it will pick the lowest value, which is three\n",
    "- use the len function to determine the number of elements in the values_set variable.\n",
    "\n"
   ]
  },
  {
   "cell_type": "code",
   "execution_count": 83,
   "id": "0fb2ea72",
   "metadata": {},
   "outputs": [
    {
     "name": "stdout",
     "output_type": "stream",
     "text": [
      "15\n",
      "{1, 2, 3, 4, 5, 6}\n",
      "[1, 2, 2, 3, 3, 3, 4, 4, 4, 5, 5, 5, 6, 6, 6]\n",
      "3\n"
     ]
    }
   ],
   "source": [
    "values=[3,4,5,6,3,4,3,5,2,4,2,5,6,1,6]\n",
    "print(len(values))\n",
    "values_set = set(values)\n",
    "print(values_set)\n",
    "len(values_set)\n",
    "values=sorted(values)\n",
    "print(sorted(values))\n",
    "from statistics import mode\n",
    "\n",
    "print(mode(values))\n"
   ]
  },
  {
   "cell_type": "markdown",
   "id": "801d5876",
   "metadata": {},
   "source": [
    "### Q9\n",
    "Write a Python script to print a dictionary where the keys are numbers between 1 and 15 (both included) and the values are the square of the keys."
   ]
  },
  {
   "cell_type": "code",
   "execution_count": 105,
   "id": "2de57e1f",
   "metadata": {},
   "outputs": [
    {
     "data": {
      "text/plain": [
       "13"
      ]
     },
     "execution_count": 105,
     "metadata": {},
     "output_type": "execute_result"
    }
   ],
   "source": [
    "for k,v in values;\n",
    "   a\n",
    "\n",
    "values = [2,3,4,5,6,7,8,9,10,11,12,13,14]"
   ]
  },
  {
   "cell_type": "code",
   "execution_count": 110,
   "id": "08dee96f",
   "metadata": {},
   "outputs": [
    {
     "data": {
      "text/plain": [
       "{2: 4,\n",
       " 3: 9,\n",
       " 4: 16,\n",
       " 5: 25,\n",
       " 6: 36,\n",
       " 7: 49,\n",
       " 8: 64,\n",
       " 9: 81,\n",
       " 10: 100,\n",
       " 11: 121,\n",
       " 12: 144,\n",
       " 13: 169,\n",
       " 14: 196}"
      ]
     },
     "execution_count": 110,
     "metadata": {},
     "output_type": "execute_result"
    }
   ],
   "source": [
    "myDict = {x: x**2 for x in [2,3,4,5,6,7,8,9,10,11,12,13,14]}\n",
    "\n",
    "myDict\n"
   ]
  },
  {
   "cell_type": "markdown",
   "id": "18954e57",
   "metadata": {},
   "source": [
    "### Q10\n",
    "Write a Python program to create a dictionary of keys x, y, and z where each key has as value a list from 11-20, 21-30, and 31-40 respectively. Access the fifth value of each key from the dictionary."
   ]
  },
  {
   "cell_type": "markdown",
   "id": "4cf2b722",
   "metadata": {},
   "source": [
    " #### Q 10:  Steps\n",
    " - put keys in a list an assign it to variable `keys`\n",
    " - use the range function to create sublists for the various values and assign to `values` variable\n",
    " - using the zip function and for loop\n",
    " - using dictionary comprehension assign the keys to their respective values\n",
    " - dictionary comprehension is similar to k[v] = \"value\" but is more convenient.\n",
    " - indexing starts from zero so assign index four within list in the dictionary to the fifth variable. \n",
    " -  There are other ways but this was the quickest for me."
   ]
  },
  {
   "cell_type": "code",
   "execution_count": null,
   "id": "7c8f1924",
   "metadata": {},
   "outputs": [],
   "source": []
  },
  {
   "cell_type": "code",
   "execution_count": 33,
   "id": "fec19820",
   "metadata": {},
   "outputs": [
    {
     "name": "stdout",
     "output_type": "stream",
     "text": [
      "{'x': [11, 12, 13, 14, 15, 16, 17, 18, 19, 20], 'y': [21, 22, 23, 24, 25, 26, 27, 28, 29, 30], 'z': [31, 32, 33, 34, 35, 36, 37, 38, 39, 40]}\n",
      "fifth is equal to:(15, 25, 35)\n"
     ]
    }
   ],
   "source": [
    "keys = ['x','y','z']\n",
    "values =[list(range(11,21)),list(range(21,31)),list(range(31,41))]\n",
    "u =list(range(11,21))\n",
    "v =list(range(21,31))\n",
    "w = list(range(31,41))\n",
    "\n",
    "test = { k:v for (k,v) in zip(keys, values)}\n",
    "print(test)\n",
    "\n",
    "fifth = {1}\n",
    "\n",
    "#for v in myDict.values():\n",
    " #   if ()\n",
    "  #  print(fifth)\n",
    "    \n",
    "fifth=(test[\"x\"][4], test[\"y\"][4], test[\"z\"][4])\n",
    "print(f\"fifth is equal to:{fifth}\")"
   ]
  },
  {
   "cell_type": "code",
   "execution_count": 29,
   "id": "7f7f6008",
   "metadata": {},
   "outputs": [
    {
     "data": {
      "text/plain": [
       "dict_items([(11, 11), (12, 12), (13, 13), (14, 14), (15, 15), (16, 16), (17, 17), (18, 18), (19, 19)])"
      ]
     },
     "execution_count": 29,
     "metadata": {},
     "output_type": "execute_result"
    }
   ],
   "source": [
    "test.items()"
   ]
  },
  {
   "cell_type": "code",
   "execution_count": null,
   "id": "128ee23a",
   "metadata": {},
   "outputs": [],
   "source": []
  }
 ],
 "metadata": {
  "kernelspec": {
   "display_name": "Python 3 (ipykernel)",
   "language": "python",
   "name": "python3"
  },
  "language_info": {
   "codemirror_mode": {
    "name": "ipython",
    "version": 3
   },
   "file_extension": ".py",
   "mimetype": "text/x-python",
   "name": "python",
   "nbconvert_exporter": "python",
   "pygments_lexer": "ipython3",
   "version": "3.9.16"
  }
 },
 "nbformat": 4,
 "nbformat_minor": 5
}
