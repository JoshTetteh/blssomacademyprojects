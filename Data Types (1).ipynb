{
 "cells": [
  {
   "cell_type": "markdown",
   "id": "1971db0e",
   "metadata": {},
   "source": [
    "### Q1\n",
    "List the basic data types in python and give one example each."
   ]
  },
  {
   "cell_type": "markdown",
   "id": "788fdb37",
   "metadata": {},
   "source": [
    "##### Examples\n",
    "- String : \"Aaron\"\n",
    "- Integer : 4\n",
    "- Float: 1.40\n",
    "- Boolean : False"
   ]
  },
  {
   "cell_type": "markdown",
   "id": "4a2be5ba",
   "metadata": {},
   "source": [
    "### Q2\n",
    "Change the variable x = 4539.85 to :\n",
    "\n",
    "(i) a string and assign it to a new variable y,\n",
    "\n",
    "(ii) an integer and assign it to a new variable z\n",
    "\n",
    "Print out the type of y and z."
   ]
  },
  {
   "cell_type": "markdown",
   "id": "210764a5",
   "metadata": {},
   "source": [
    "##### ANSWER\n",
    "\n",
    "###### use casting first\n",
    "\n",
    "- x= 4539.85\n",
    "- y = str(`x`)\n",
    "- z = int(`y`)\n",
    "\n",
    "##### print values\n",
    "- print(`x`)\n",
    "- print(`y`)\n",
    "\n",
    "##### check data type\n",
    "- print(type(`x`)\n",
    "- print(type(`z`)\n",
    "\n",
    "\n",
    "\n"
   ]
  },
  {
   "cell_type": "code",
   "execution_count": 7,
   "id": "f0887922",
   "metadata": {},
   "outputs": [
    {
     "name": "stdout",
     "output_type": "stream",
     "text": [
      " x : 4539.85\n",
      " z:  4539\n",
      "<class 'str'>\n",
      "<class 'int'>\n"
     ]
    }
   ],
   "source": [
    "x= 4539.85\n",
    "y = str(x)\n",
    "z = int(x)\n",
    "\n",
    "print(f\" x : {y}\")\n",
    "print(f\" z:  {z}\")\n",
    "\n",
    "\n",
    "print(type(y)); print(type(z))\n",
    "\n"
   ]
  },
  {
   "cell_type": "code",
   "execution_count": null,
   "id": "30043ce5",
   "metadata": {},
   "outputs": [],
   "source": []
  },
  {
   "cell_type": "markdown",
   "id": "81a1251c",
   "metadata": {},
   "source": [
    "### Q3\n",
    "\n",
    "What data type would you use to store\n",
    "\n",
    "a. The price of car?: `Float`\n",
    "\n",
    "b. The age of a person: `Integer`\n",
    "\n",
    "c. car plate number: plateNumber = \"AV01-AFP\"? : `String`\n",
    "\n",
    "d. The price of fuel : `Float`\n",
    "\n",
    "e. The number of students in the class : `Int`\n",
    "\n",
    "f. The weight of a person : `Float`\n",
    "\n",
    "g. Check whether two figures are equal :`Boolean`\n",
    "\n",
    "i. The name of a  school : `String`\n",
    "\n",
    "j. The average result of the overall score of a student : `Float`\n",
    "\n",
    "k. The total number of vote cast : `Integer`\n",
    "\n"
   ]
  },
  {
   "cell_type": "markdown",
   "id": "f0694362",
   "metadata": {},
   "source": [
    "### Q4\n",
    "**Thomas Partey is arguably the best player in the Black Stars. He is a great addition to the team**\n",
    "\n",
    "Split the statement above into **two statement_1** and **statement_2** such that statement_1 will be 'Thomas Partey is arguably the best player in the Black Stars' and statement_2 will be 'He is a great addition to the team'\n",
    "\n",
    "Statement:\n",
    "\n",
    "- **What is the length of statment 1?**\n",
    "-**What is the length of statment 2?**\n",
    "-**Is the length of statement 1 greater than statement 2**"
   ]
  },
  {
   "cell_type": "code",
   "execution_count": 15,
   "id": "46ed77a1",
   "metadata": {},
   "outputs": [
    {
     "name": "stdout",
     "output_type": "stream",
     "text": [
      "Thomas Partey is arguably the best player in the Black Stars\n",
      " He is a great addition to the team\n",
      "60\n",
      "35\n"
     ]
    },
    {
     "data": {
      "text/plain": [
       "True"
      ]
     },
     "execution_count": 15,
     "metadata": {},
     "output_type": "execute_result"
    }
   ],
   "source": [
    "A = \"Thomas Partey is arguably the best player in the Black Stars. He is a great addition to the team\"\n",
    "B = A.split(\".\")\n",
    "#print(B)\n",
    "statement_1 = B[0]\n",
    "statement_2 = B[1]\n",
    "print(statement_1 )\n",
    "print(statement_2)\n",
    "\n",
    "print(len(statement_1))\n",
    "print(len(statement_2))\n",
    "\n",
    "len(statement_1)> len(statement_2)"
   ]
  },
  {
   "cell_type": "markdown",
   "id": "ceb46447",
   "metadata": {},
   "source": [
    "### Q5\n",
    "What values does python use to represent **True** and **False** respectively?\n",
    "\n",
    "- `True` :1\n",
    "- `False`:0"
   ]
  },
  {
   "cell_type": "code",
   "execution_count": null,
   "id": "d38c60fb",
   "metadata": {},
   "outputs": [],
   "source": []
  },
  {
   "cell_type": "markdown",
   "id": "1b5180b5",
   "metadata": {},
   "source": [
    "### Q6\n",
    "Write a code to evaluate if the following statments are True or False.\n",
    "\n",
    "1. 78 is greater than 46 and less than 30 which is an odd number.\n",
    "\n",
    "\n",
    "\n",
    "2. 8-2 is an even number or 8 is  an odd number.\n",
    "\n",
    "3. The number of characters in the word 'boostrap' is 7 and that of 'sample' is 6."
   ]
  },
  {
   "cell_type": "code",
   "execution_count": 16,
   "id": "fcb385dd",
   "metadata": {},
   "outputs": [
    {
     "data": {
      "text/plain": [
       "False"
      ]
     },
     "execution_count": 16,
     "metadata": {},
     "output_type": "execute_result"
    }
   ],
   "source": [
    "(78 > 46) & ( 78 < 30) &  (30%2)== 1"
   ]
  },
  {
   "cell_type": "code",
   "execution_count": 21,
   "id": "1ee32805",
   "metadata": {},
   "outputs": [
    {
     "data": {
      "text/plain": [
       "True"
      ]
     },
     "execution_count": 21,
     "metadata": {},
     "output_type": "execute_result"
    }
   ],
   "source": [
    " A = 8-2\n",
    "(A%2 == 0)|(8%2==1)"
   ]
  },
  {
   "cell_type": "markdown",
   "id": "e7baafe8",
   "metadata": {},
   "source": [
    "b= 'boostrap'\n",
    "s= 'sample'\n",
    "\n",
    "len(b) ==7 & len(s) == 6"
   ]
  },
  {
   "cell_type": "markdown",
   "id": "bc13f9fc",
   "metadata": {},
   "source": [
    "### Q7\n",
    "Given the following python code,\n",
    "\n",
    "`word='Hello, How are you?'`\n",
    "\n",
    "Write Python code to return the following\n",
    "\n",
    "- How\n",
    "- How are you\n",
    "- are\n",
    "- ?\n",
    "- Hello, How are you\n",
    "\n",
    "\n",
    " "
   ]
  },
  {
   "cell_type": "code",
   "execution_count": 23,
   "id": "d5edc850",
   "metadata": {},
   "outputs": [],
   "source": [
    "word='Hello, How are you?'"
   ]
  },
  {
   "cell_type": "code",
   "execution_count": 24,
   "id": "25b830e1",
   "metadata": {},
   "outputs": [
    {
     "name": "stdout",
     "output_type": "stream",
     "text": [
      "How :How\n",
      "How are you\n",
      "are\n",
      "?\n",
      "Hello, How are you\n"
     ]
    }
   ],
   "source": [
    "print(\"How :\"+ str(word[7:10]))\n",
    "print(word[7:18])\n",
    "print(word[11:14])\n",
    "print(word[18:])\n",
    "# print(word[-1])\n",
    "print(word[:-1])\n",
    "\n",
    "\n"
   ]
  },
  {
   "cell_type": "markdown",
   "id": "e4167de5",
   "metadata": {},
   "source": [
    "### Q8\n",
    "Given the following python code,\n",
    "\n",
    "`sentence = \"I am very excited\"`\n",
    "\n",
    "Write Python code to return \n",
    "- Convert sentence to upper case\n",
    "- Convert sentence to lower case\n",
    "- Convert sentence to title case\n",
    "- Convert sentence to list of strings\n",
    " "
   ]
  },
  {
   "cell_type": "markdown",
   "id": "48cdad40",
   "metadata": {},
   "source": [
    "##### Q8 ANSWER.\n",
    "\n",
    "- `sentence` = \"I am very excited\"\n",
    "- UPPER CASE: {sentence.upper()}\")\n",
    "- lower case: {sentence.lower()}\")\n",
    "- title : {sentence.title()}\")\n",
    "- sentence.capitalize())\n",
    "\n",
    "- split sentence:(sentence.split(\" \")\n"
   ]
  },
  {
   "cell_type": "code",
   "execution_count": 20,
   "id": "263c1f96",
   "metadata": {},
   "outputs": [
    {
     "name": "stdout",
     "output_type": "stream",
     "text": [
      " UPPER CASE: I AM VERY EXCITED\n",
      " lower case: i am very excited\n",
      " title : I Am Very Excited\n",
      "I am very excited\n",
      "split sentence: ['I', 'am', 'very', 'excited']\n"
     ]
    }
   ],
   "source": [
    "sentence = \"I am very excited\"\n",
    "print(f\" UPPER CASE: {sentence.upper()}\")\n",
    "print(f\" lower case: {sentence.lower()}\")\n",
    "print(f\" title : {sentence.title()}\")\n",
    "print(sentence.capitalize())\n",
    "\n",
    "print(\"split sentence: \" + str(sentence.split(\" \")))\n"
   ]
  },
  {
   "cell_type": "code",
   "execution_count": null,
   "id": "1e3e05f0",
   "metadata": {},
   "outputs": [],
   "source": []
  },
  {
   "cell_type": "markdown",
   "id": "4faf0134",
   "metadata": {},
   "source": [
    "### Q9\n",
    "`word = 'OneThirtyEight'`\n",
    "\n",
    "Using Python code extract the following from the variable word:\n",
    "- One\n",
    "- Thirty\n",
    "- Eight\n",
    "- OneThirty\n",
    "- ThirtyEight\n",
    "- ONETHIRTYEIGHT"
   ]
  },
  {
   "cell_type": "markdown",
   "id": "a9dbfce4",
   "metadata": {},
   "source": [
    "##### Q9 ANSWER\n",
    "\n",
    "`word` = 'OneThirtyEight'\n",
    "- One : print (word[:-11])\n",
    "- Thirty : print(word[-11:-5])\n",
    "- Eight:  print(word [-5:])\n",
    "- OneThirty : print(word [-14:-5])\n",
    "- ThirtyEight:  print(word [3:14])\n",
    "- ONETHIRTYEIGHT :print(word [:14].upper())\n",
    "###### OR\n",
    "- print(word.upper())"
   ]
  },
  {
   "cell_type": "code",
   "execution_count": 75,
   "id": "957afb60",
   "metadata": {},
   "outputs": [
    {
     "name": "stdout",
     "output_type": "stream",
     "text": [
      "One\n",
      "Thirty\n",
      "Eight\n",
      "OneThirty\n",
      "ThirtyEight\n",
      "ONETHIRTYEIGHT\n",
      "ONETHIRTYEIGHT\n"
     ]
    }
   ],
   "source": [
    "`word` = 'OneThirtyEight'\n",
    "print (word[:-11])\n",
    "print(word[-11:-5])\n",
    "print(word[-5:])\n",
    "print(word[-14:-5])\n",
    "print(word[3:14])\n",
    "print(word[:14].upper())\n",
    "print(word.upper())"
   ]
  },
  {
   "cell_type": "markdown",
   "id": "2a4eea1f",
   "metadata": {},
   "source": [
    "### Q10\n",
    "Turn Ault'Kelly into a string and assign it to a variable  called name."
   ]
  },
  {
   "cell_type": "markdown",
   "id": "10430073",
   "metadata": {},
   "source": [
    "##### Use double quotes so that singlequotes don't obstruct your code"
   ]
  },
  {
   "cell_type": "code",
   "execution_count": 76,
   "id": "aa2f0a08",
   "metadata": {},
   "outputs": [
    {
     "data": {
      "text/plain": [
       "\"Ault'Kelly\""
      ]
     },
     "execution_count": 76,
     "metadata": {},
     "output_type": "execute_result"
    }
   ],
   "source": [
    "name = \"Ault'Kelly\"\n",
    "name"
   ]
  }
 ],
 "metadata": {
  "kernelspec": {
   "display_name": "Python 3 (ipykernel)",
   "language": "python",
   "name": "python3"
  },
  "language_info": {
   "codemirror_mode": {
    "name": "ipython",
    "version": 3
   },
   "file_extension": ".py",
   "mimetype": "text/x-python",
   "name": "python",
   "nbconvert_exporter": "python",
   "pygments_lexer": "ipython3",
   "version": "3.9.16"
  }
 },
 "nbformat": 4,
 "nbformat_minor": 5
}
