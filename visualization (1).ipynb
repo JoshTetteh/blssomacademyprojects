{
 "cells": [
  {
   "cell_type": "code",
   "execution_count": 1,
   "id": "4c8a92c4",
   "metadata": {},
   "outputs": [],
   "source": [
    "import pandas as pd\n",
    "import re\n",
    "\n",
    "data_eng=pd.read_csv(\"C:/Users/ACER/Desktop/blossom data/DataEngineer.csv\")\n",
    "FIFA=pd.read_csv(\"C:/Users/ACER/Desktop/blossom data/FIFA-2019.csv\")"
   ]
  },
  {
   "cell_type": "code",
   "execution_count": 55,
   "id": "f793f7d2",
   "metadata": {},
   "outputs": [],
   "source": [
    "Salary=cleaned_data_eng.groupby(\"Easy Apply\")[\"Max Salary\"].mean()"
   ]
  },
  {
   "cell_type": "code",
   "execution_count": null,
   "id": "1e641af2",
   "metadata": {},
   "outputs": [],
   "source": [
    "Salary"
   ]
  },
  {
   "cell_type": "code",
   "execution_count": null,
   "id": "535052a8",
   "metadata": {},
   "outputs": [],
   "source": [
    "Salary.columns"
   ]
  },
  {
   "cell_type": "code",
   "execution_count": 59,
   "id": "7873d7ed",
   "metadata": {},
   "outputs": [],
   "source": [
    "import matplotlib.pyplot as plt "
   ]
  },
  {
   "cell_type": "code",
   "execution_count": 61,
   "id": "00dbcd51",
   "metadata": {},
   "outputs": [
    {
     "data": {
      "image/png": "[encoded data removed]",
      "text/plain": [
       "<Figure size 640x480 with 1 Axes>"
      ]
     },
     "metadata": {},
     "output_type": "display_data"
    }
   ],
   "source": [
    "plt.bar(Salary.index,Salary['Max Salary'])\n",
    "plt.title(\"Average Salary Per Sector\")\n",
    "plt.xlabel(\"Sector\")\n",
    "plt.ylabel(\"Average Salary\")\n",
    "plt.show()"
   ]
  },
  {
   "cell_type": "markdown",
   "id": "f737fe6e",
   "metadata": {},
   "source": [
    "#### FIFA DATASET"
   ]
  },
  {
   "cell_type": "code",
   "execution_count": 68,
   "id": "39d85adc",
   "metadata": {},
   "outputs": [],
   "source": [
    "Barcelona=FIFA_2[FIFA_2[\"Club\"]==\"FC Barcelona\"]"
   ]
  },
  {
   "cell_type": "code",
   "execution_count": 69,
   "id": "d254dd89",
   "metadata": {},
   "outputs": [
    {
     "data": {
      "text/plain": [
       "Age\n",
       "19     5\n",
       "18     4\n",
       "21     4\n",
       "31     4\n",
       "24     3\n",
       "26     3\n",
       "29     3\n",
       "23     2\n",
       "20     1\n",
       "22     1\n",
       "25     1\n",
       "30     1\n",
       "32     1\n",
       "dtype: int64"
      ]
     },
     "execution_count": 69,
     "metadata": {},
     "output_type": "execute_result"
    }
   ],
   "source": [
    "Barcelona[[\"Age\"]].value_counts()"
   ]
  },
  {
   "cell_type": "code",
   "execution_count": 75,
   "id": "89078a5c",
   "metadata": {},
   "outputs": [],
   "source": [
    "Wage=Barcelona.groupby(\"Age\")[\"Wage\"].mean().to_frame()"
   ]
  },
  {
   "cell_type": "code",
   "execution_count": 76,
   "id": "2f1de879",
   "metadata": {},
   "outputs": [
    {
     "data": {
      "text/html": [
       "<div>\n",
       "<style scoped>\n",
       "    .dataframe tbody tr th:only-of-type {\n",
       "        vertical-align: middle;\n",
       "    }\n",
       "\n",
       "    .dataframe tbody tr th {\n",
       "        vertical-align: top;\n",
       "    }\n",
       "\n",
       "    .dataframe thead th {\n",
       "        text-align: right;\n",
       "    }\n",
       "</style>\n",
       "<table border=\"1\" class=\"dataframe\">\n",
       "  <thead>\n",
       "    <tr style=\"text-align: right;\">\n",
       "      <th></th>\n",
       "      <th>Wage</th>\n",
       "    </tr>\n",
       "    <tr>\n",
       "      <th>Age</th>\n",
       "      <th></th>\n",
       "    </tr>\n",
       "  </thead>\n",
       "  <tbody>\n",
       "    <tr>\n",
       "      <th>18</th>\n",
       "      <td>17000.000000</td>\n",
       "    </tr>\n",
       "    <tr>\n",
       "      <th>19</th>\n",
       "      <td>12400.000000</td>\n",
       "    </tr>\n",
       "    <tr>\n",
       "      <th>20</th>\n",
       "      <td>58000.000000</td>\n",
       "    </tr>\n",
       "    <tr>\n",
       "      <th>21</th>\n",
       "      <td>107500.000000</td>\n",
       "    </tr>\n",
       "    <tr>\n",
       "      <th>22</th>\n",
       "      <td>115000.000000</td>\n",
       "    </tr>\n",
       "    <tr>\n",
       "      <th>23</th>\n",
       "      <td>102000.000000</td>\n",
       "    </tr>\n",
       "    <tr>\n",
       "      <th>24</th>\n",
       "      <td>150000.000000</td>\n",
       "    </tr>\n",
       "    <tr>\n",
       "      <th>25</th>\n",
       "      <td>165000.000000</td>\n",
       "    </tr>\n",
       "    <tr>\n",
       "      <th>26</th>\n",
       "      <td>250000.000000</td>\n",
       "    </tr>\n",
       "    <tr>\n",
       "      <th>29</th>\n",
       "      <td>233333.333333</td>\n",
       "    </tr>\n",
       "    <tr>\n",
       "      <th>30</th>\n",
       "      <td>260000.000000</td>\n",
       "    </tr>\n",
       "    <tr>\n",
       "      <th>31</th>\n",
       "      <td>366250.000000</td>\n",
       "    </tr>\n",
       "    <tr>\n",
       "      <th>32</th>\n",
       "      <td>110000.000000</td>\n",
       "    </tr>\n",
       "  </tbody>\n",
       "</table>\n",
       "</div>"
      ],
      "text/plain": [
       "              Wage\n",
       "Age               \n",
       "18    17000.000000\n",
       "19    12400.000000\n",
       "20    58000.000000\n",
       "21   107500.000000\n",
       "22   115000.000000\n",
       "23   102000.000000\n",
       "24   150000.000000\n",
       "25   165000.000000\n",
       "26   250000.000000\n",
       "29   233333.333333\n",
       "30   260000.000000\n",
       "31   366250.000000\n",
       "32   110000.000000"
      ]
     },
     "execution_count": 76,
     "metadata": {},
     "output_type": "execute_result"
    }
   ],
   "source": [
    "Wage"
   ]
  },
  {
   "cell_type": "code",
   "execution_count": 71,
   "id": "8adcc937",
   "metadata": {},
   "outputs": [
    {
     "data": {
      "text/plain": [
       "pandas.core.series.Series"
      ]
     },
     "execution_count": 71,
     "metadata": {},
     "output_type": "execute_result"
    }
   ],
   "source": [
    "type(Wage)"
   ]
  },
  {
   "cell_type": "code",
   "execution_count": 77,
   "id": "3e749a80",
   "metadata": {},
   "outputs": [
    {
     "data": {
      "image/png": "[encoded data removed]",
      "text/plain": [
       "<Figure size 640x480 with 1 Axes>"
      ]
     },
     "metadata": {},
     "output_type": "display_data"
    }
   ],
   "source": [
    "\n",
    "plt.bar(Wage.index, Wage['Wage'])\n",
    "plt.title(\"Barcelona Average Wage Per Age\")\n",
    "plt.xlabel(\"Barcelona Player Ages\")\n",
    "plt.ylabel(\"Barcelona Average Wage\")\n",
    "plt.show()"
   ]
  },
  {
   "cell_type": "code",
   "execution_count": null,
   "id": "4491b58d",
   "metadata": {},
   "outputs": [],
   "source": []
  }
 ],
 "metadata": {
  "kernelspec": {
   "display_name": "Python 3 (ipykernel)",
   "language": "python",
   "name": "python3"
  },
  "language_info": {
   "codemirror_mode": {
    "name": "ipython",
    "version": 3
   },
   "file_extension": ".py",
   "mimetype": "text/x-python",
   "name": "python",
   "nbconvert_exporter": "python",
   "pygments_lexer": "ipython3",
   "version": "3.9.16"
  }
 },
 "nbformat": 4,
 "nbformat_minor": 5
}
